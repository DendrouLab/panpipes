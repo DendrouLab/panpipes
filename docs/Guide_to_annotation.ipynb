{
 "cells": [
  {
   "cell_type": "markdown",
   "metadata": {},
   "source": [
    "# Guide to annotation for the Dendrou lab pipeline\n",
    "\n",
    "Tom Thomas and Charlotte Rich Griffin - 13-04-2021\n",
    "\n",
    "This is a essentially a guide to bring together efficient ways of working with the group pipeline output.\n",
    "It should hopefully also help reduce time spent Googling pandas methods for wrangling the anndata object"
   ]
  },
  {
   "cell_type": "markdown",
   "metadata": {},
   "source": [
    "## Inputs and adjuncts\n",
    "\n",
    "inputs: \n",
    "- batch corrected n_neighbors h5ad object from the clustering pipeline output directory\n",
    "- all_res_clusters_list.txt file from the clustering pipeline output directory\n",
    "       \n",
    "adjuncts: \n",
    "\n",
    "At the same time as annotating, open up clustree in parallel, and also open up the excel sheet carrying differentially expressed genes\n",
    "to get a broad idea of the clusters and how they develop visually on the UMAP, also open up umap_all_res.png file from the figures folder within the `n_neighbour` specific clustering pipeline output resolution specific figures folder is also well worth examining as this will enable you to identify straight away the broad clusters (we have included broad genes for the various cell fractions) and potential co-variate specific cell abundances"
   ]
  },
  {
   "cell_type": "markdown",
   "metadata": {},
   "source": [
    "NOTE: In our experience clustree is a simply a guide, interesting biology might occur at varying levels on the clustree output. Annotate across resolutions as biologically indicated"
   ]
  },
  {
   "cell_type": "markdown",
   "metadata": {},
   "source": [
    "## Aims:\n",
    "Within the broader Dendrou workflow - the aims of the annotation step is to enable the following:\n",
    "\n",
    "1. create annotated anndata objects - subsequently combine the annotated fractions to create a fully annotated dataset for the experiment\n",
    "2. write out annotated barcode (subpopulation, minor, major and bucket), as well as umap co-ordinates for further downstream analyses"
   ]
  },
  {
   "cell_type": "markdown",
   "metadata": {},
   "source": [
    "BEFORE STARTING: identify broad populations and trends within the dataset by first screening the adjunct pictorial outputs\n",
    "       at this point, edit the clustree with any potential identified broad clusters using the adjunct resources - this will help guide the annotation process\n",
    "       select three resolutions where there is minimal cross over in the clustree and might be biologically meaningful (this is a guess initially and you can refine as you explore the dataset)"
   ]
  },
  {
   "cell_type": "code",
   "execution_count": 4,
   "metadata": {},
   "outputs": [],
   "source": [
    "import pandas as pd\n",
    "import scanpy as sc\n",
    "import seaborn as sns"
   ]
  },
  {
   "cell_type": "code",
   "execution_count": null,
   "metadata": {},
   "outputs": [],
   "source": [
    "# set visual settings - this is my own private preference, edit as you wish\n",
    "sc.set_figure_params(scanpy=True, dpi=300, dpi_save=150, frameon=True, vector_friendly=True, fontsize=15, figsize=[35, 35], color_map=None, format='pdf', facecolor=None, transparent=False, ipython_format='png2x')"
   ]
  },
  {
   "cell_type": "code",
   "execution_count": null,
   "metadata": {},
   "outputs": [],
   "source": [
    "# load the necessary n_neighbours object from the clustering pipeline output\n",
    "adata = sc.read('bcell_drharmony_meteuclidean_neighbors.h5ad')"
   ]
  },
  {
   "cell_type": "code",
   "execution_count": null,
   "metadata": {},
   "outputs": [],
   "source": [
    "# load cluster data from clustering pipeline output\n",
    "data = pd.read_csv('all_res_clusters_list.txt',sep=\"\\t\",index_col=0)"
   ]
  },
  {
   "cell_type": "code",
   "execution_count": null,
   "metadata": {},
   "outputs": [],
   "source": [
    "adata.obs = adata.obs.merge(data, left_index=True, right_index=True)"
   ]
  },
  {
   "cell_type": "code",
   "execution_count": null,
   "metadata": {},
   "outputs": [],
   "source": [
    "# set the resolutions as identified above of interest as a category\n",
    "adata.obs['leiden_res_0.3'] = adata.obs['leiden_res_0.3'].astype('category')"
   ]
  },
  {
   "cell_type": "markdown",
   "metadata": {},
   "source": [
    "## Identify soupy clusters\n",
    "\n",
    "You can do this by using the doublet scores (from scrublet) which the pipeline will have added for you\n",
    "mark these on your clustree so that you can forget about these clusters"
   ]
  },
  {
   "cell_type": "code",
   "execution_count": null,
   "metadata": {},
   "outputs": [],
   "source": [
    "sns.catplot(x=adata.obs['leiden_res_0.3'], y=adata.obs['doubletscores'], kind = \"box\", data=adata.obs)"
   ]
  },
  {
   "cell_type": "markdown",
   "metadata": {},
   "source": [
    "## Annotation cell populations\n",
    "\n",
    "Annotating further from this point on revolves around:\n",
    "\n",
    "1. reading the top marker genes on the excel sheet and researching them - annotate on the clustree to keep track \n",
    "2. comparing expression levels of genes across clusters by visualisation"
   ]
  },
  {
   "cell_type": "markdown",
   "metadata": {},
   "source": [
    "VISUALISATIONS - I tend to use dotplots as a mainstay for all my annotations, using umap can be helpful to see whether there might be subclusters driven by a single gene within a cluster. Looking for CD3D for ex: helped me distinguish that within our NKT cluster, there was a distinct population which did not express CD3D. On further subclustering, we were able to identify the NK population"
   ]
  },
  {
   "cell_type": "code",
   "execution_count": null,
   "metadata": {},
   "outputs": [],
   "source": [
    "genes = ['TNF']"
   ]
  },
  {
   "cell_type": "markdown",
   "metadata": {},
   "source": [
    "VISUALISATIONS 1: UMAP + gene on umap (if you have specific queries about a gene)"
   ]
  },
  {
   "cell_type": "code",
   "execution_count": null,
   "metadata": {},
   "outputs": [],
   "source": [
    "sc.pl.umap(adata, color=['leiden_res_0.3','TNF'], size = 15, legend_loc = 'on data', legend_fontsize = 'large',add_outline=True)"
   ]
  },
  {
   "cell_type": "markdown",
   "metadata": {},
   "source": [
    "VISUALISATIONS 2: dotplots"
   ]
  },
  {
   "cell_type": "code",
   "execution_count": null,
   "metadata": {},
   "outputs": [],
   "source": [
    "genes = ['TNFRSF13B','CXCR5','SELL','CD27','CCR7']"
   ]
  },
  {
   "cell_type": "code",
   "execution_count": null,
   "metadata": {},
   "outputs": [],
   "source": [
    "sc.pl.dotplot(adata, genes, groupby = 'leiden_res_0.3', dendrogram=True)"
   ]
  },
  {
   "cell_type": "markdown",
   "metadata": {
    "jupyter": {
     "outputs_hidden": true
    }
   },
   "source": [
    "## Data wrangling. I - subset data according to feature or cell type etc.\n",
    "Use scenario - this is useful for subsetting cell types for further clustering, and also examining cells with specific covariates (inflamed vs non-inflamed etc.) further"
   ]
  },
  {
   "cell_type": "code",
   "execution_count": null,
   "metadata": {},
   "outputs": [],
   "source": [
    "adata.obs['leiden_res_0.8_revised'] = adata.obs['leiden_res_0.8_revised'].astype('category')"
   ]
  },
  {
   "cell_type": "markdown",
   "metadata": {},
   "source": [
    "subset according to column, and value in column - this isolates cells with value 'Inflamed' from the anndata object using the adata.obs column 'Inflammation'\n",
    "you can use the same concept to isolate cell types of interest from the annotation column"
   ]
  },
  {
   "cell_type": "code",
   "execution_count": null,
   "metadata": {},
   "outputs": [],
   "source": [
    "infl = adata[adata.obs['Inflammation'] == 'Inflamed']"
   ]
  },
  {
   "cell_type": "markdown",
   "metadata": {},
   "source": [
    "## Data wrangling. II - retrieving annotations at multiple levels on the clustree \n",
    "Use scenario: Suppose you think that the cluster resolution at 0.8 satisfies the vast majority of your annotation, but you discern that there is a biologically relevant subtype at resolution 1.1\n",
    "Use this to bring that cluster at res 1.1 to res 0.8\n",
    "This is really just an exercise in pandas dataframe wrangling"
   ]
  },
  {
   "cell_type": "code",
   "execution_count": null,
   "metadata": {},
   "outputs": [],
   "source": [
    "# Ensure both are data type category first\n",
    "adata.obs['leiden_res_0.8'] = adata.obs['leiden_res_0.8'].astype('category')\n",
    "adata.obs['leiden_res_1.1'] = adata.obs['leiden_res_1.1'].astype('category')"
   ]
  },
  {
   "cell_type": "code",
   "execution_count": null,
   "metadata": {},
   "outputs": [],
   "source": [
    "# Isolate both columns into a single DataFrame\n",
    "df_test = pd.DataFrame(data={'Cell': list(adata.obs.index), 'leiden_res_1.1': list(adata.obs['leiden_res_1.1']), 'leiden_res_0.8': list(adata.obs['leiden_res_0.8'])})\n",
    "df_test.set_index('Cell',inplace=True)"
   ]
  },
  {
   "cell_type": "code",
   "execution_count": null,
   "metadata": {},
   "outputs": [],
   "source": [
    "# Anywhere, that resolution 1.1 deems to be 12 (your cluster of interest), replace at leiden 0.8 with 19 (new cluster that you have deemed necessary on 0.8 res)\n",
    "df_test.loc[df_test['leiden_res_1.1'] == 12, \"leiden_res_0.8\"] = 19"
   ]
  },
  {
   "cell_type": "code",
   "execution_count": null,
   "metadata": {},
   "outputs": [],
   "source": [
    "# double check that this has worked as you intended\n",
    "df_test[\"leiden_res_0.8\"].unique()"
   ]
  },
  {
   "cell_type": "code",
   "execution_count": null,
   "metadata": {},
   "outputs": [],
   "source": [
    "# delete now defunct resolution 1.1\n",
    "del df_test['leiden_res_1.1']"
   ]
  },
  {
   "cell_type": "code",
   "execution_count": null,
   "metadata": {},
   "outputs": [],
   "source": [
    "# rename column to keep tracking easier\n",
    "df_test.columns = ['leiden_res_0.8_revised']"
   ]
  },
  {
   "cell_type": "code",
   "execution_count": null,
   "metadata": {},
   "outputs": [],
   "source": [
    "adata.obs = adata.obs.merge(df_test, left_index=True, right_index=True)"
   ]
  },
  {
   "cell_type": "code",
   "execution_count": null,
   "metadata": {},
   "outputs": [],
   "source": [
    "# explictly put this as a category and then treble check that you wanted to happen, actually happened on the UMAP\n",
    "adata.obs['leiden_res_0.8_revised'] = adata.obs['leiden_res_0.8_revised'].astype('category')"
   ]
  },
  {
   "cell_type": "code",
   "execution_count": null,
   "metadata": {},
   "outputs": [],
   "source": [
    "sc.pl.umap(adata, color=['leiden_res_0.8_revised'], size = 15, legend_loc = 'on data', legend_fontsize = 'large',add_outline=True)"
   ]
  },
  {
   "cell_type": "markdown",
   "metadata": {},
   "source": [
    "## Data wrangling.III Merge clusters at resolution of your choice"
   ]
  },
  {
   "cell_type": "markdown",
   "metadata": {},
   "source": [
    "Ensure both are data type category first\n",
    "\n",
    "Use scenario: Suppose you think that at the resolution of your choice, there is no sufficient biological distinction between two clusters, and you would rather merge them\n",
    "Use this to bring that cluster at res 1.1 to res 0.8\n",
    "This is really just an exercise in pandas dataframe wrangling"
   ]
  },
  {
   "cell_type": "markdown",
   "metadata": {},
   "source": [
    "As before in Data wrangling - II, I like to create a separate dataframe before merging it into the adata object itself once I am happy\n",
    "This is a personal choice - it just means I am not messing up and having to restart if there are any issues in the code"
   ]
  },
  {
   "cell_type": "code",
   "execution_count": null,
   "metadata": {},
   "outputs": [],
   "source": [
    "df_test = pd.DataFrame(data={'Cell': list(adata.obs.index), 'leiden_res_0.9': list(adata.obs['leiden_res_0.9'])})\n",
    "df_test.set_index('Cell',inplace=True)"
   ]
  },
  {
   "cell_type": "markdown",
   "metadata": {},
   "source": [
    "Checking the per cluster number of cells is good, as it allows you to sanity check whether this operation has been conducted as expected"
   ]
  },
  {
   "cell_type": "code",
   "execution_count": null,
   "metadata": {},
   "outputs": [],
   "source": [
    "df_test['leiden_res_0.9'].value_counts()"
   ]
  },
  {
   "cell_type": "markdown",
   "metadata": {},
   "source": [
    "Merging cluster 10 and 0: Any cell that is annotated as 10, make cluster 0"
   ]
  },
  {
   "cell_type": "code",
   "execution_count": null,
   "metadata": {},
   "outputs": [],
   "source": [
    "df_test.loc[df_test['leiden_res_0.9'] == 10, \"leiden_res_0.9\"] = 0"
   ]
  },
  {
   "cell_type": "code",
   "execution_count": null,
   "metadata": {},
   "outputs": [],
   "source": [
    "# Sanity check to see if you see any more cells annotated as cluster 10 there shouldn't be!\n",
    "df_test[\"leiden_res_0.9\"].unique()"
   ]
  },
  {
   "cell_type": "code",
   "execution_count": null,
   "metadata": {},
   "outputs": [],
   "source": [
    "# Sanity check numbers count to ensure those cells have been added to cluster 0\n",
    "df_test['leiden_res_0.9'].value_counts()"
   ]
  },
  {
   "cell_type": "code",
   "execution_count": null,
   "metadata": {},
   "outputs": [],
   "source": [
    "# rename column - as otherwise when you merge, two columns will have the same name so pandas will append _x and _y to both column names\n",
    "df_test.columns = ['leiden_res_0.9_revised']"
   ]
  },
  {
   "cell_type": "code",
   "execution_count": null,
   "metadata": {},
   "outputs": [],
   "source": [
    "adata.obs = adata.obs.merge(df_test, left_index=True, right_index=True)"
   ]
  },
  {
   "cell_type": "code",
   "execution_count": null,
   "metadata": {},
   "outputs": [],
   "source": [
    "# explictly put this as a category and then treble check that you wanted to happen, actually happened on the UMAP\n",
    "adata.obs['leiden_res_0.9_revised'] = adata.obs['leiden_res_0.8_revised'].astype('category')"
   ]
  },
  {
   "cell_type": "code",
   "execution_count": null,
   "metadata": {},
   "outputs": [],
   "source": [
    "sc.pl.umap(adata, color=['leiden_res_0.9_revised'], size = 15, legend_loc = 'on data', legend_fontsize = 'large',add_outline=True)"
   ]
  },
  {
   "cell_type": "markdown",
   "metadata": {},
   "source": [
    "## Data wrangling.IV Rename annotations"
   ]
  },
  {
   "cell_type": "code",
   "execution_count": null,
   "metadata": {},
   "outputs": [],
   "source": [
    "# check that the resolution of interest is a category data type\n",
    "adata.obs['leiden_res_0.3'].cat.categories"
   ]
  },
  {
   "cell_type": "code",
   "execution_count": null,
   "metadata": {},
   "outputs": [],
   "source": [
    "# remove soupy cells from final anndata object\n",
    "adata2 = adata[adata.obs['leiden_res_0.3'] != 5]\n",
    "adata2 = adata2[adata2.obs['leiden_res_0.3'] != 6]\n",
    "adata2 = adata2[adata2.obs['leiden_res_0.3'] != 10]\n",
    "adata2 = adata2[adata2.obs['leiden_res_0.3'] != 11]\n",
    "adata2 = adata2[adata2.obs['leiden_res_0.3'] != 8]\n",
    "adata2 = adata2[adata2.obs['leiden_res_0.3'] != 3]"
   ]
  },
  {
   "cell_type": "code",
   "execution_count": null,
   "metadata": {},
   "outputs": [],
   "source": [
    "adata2.obs['leiden_res_0.3'].cat.categories"
   ]
  },
  {
   "cell_type": "code",
   "execution_count": null,
   "metadata": {},
   "outputs": [],
   "source": [
    "adata2.rename_categories('leiden_res_0.3', ['Memory B cell','Follicular B cell','TNF hi memory cell','FCRL4 mem B cell','IFN hi mem B cell','IgG+ mem B cell'])"
   ]
  },
  {
   "cell_type": "code",
   "execution_count": null,
   "metadata": {},
   "outputs": [],
   "source": [
    "del adata2.obs['leiden_res_0.1']\n",
    "del adata2.obs['leiden_res_0.2']\n",
    "del adata2.obs['leiden_res_0.4']\n",
    "del adata2.obs['leiden_res_0.5']\n",
    "del adata2.obs['leiden_res_0.6']\n",
    "del adata2.obs['leiden_res_0.7']\n",
    "del adata2.obs['leiden_res_0.8']\n",
    "del adata2.obs['leiden_res_0.9']\n",
    "del adata2.obs['leiden_res_1']\n",
    "del adata2.obs['leiden_res_1.1']\n",
    "del adata2.obs['leiden_res_1.2']\n",
    "del adata2.obs['leiden_res_1.3']\n",
    "del adata2.obs['leiden_res_1.4']"
   ]
  },
  {
   "cell_type": "code",
   "execution_count": null,
   "metadata": {},
   "outputs": [],
   "source": [
    "adata2.obs.rename(columns={\"leiden_res_0.3\": \"final\"})"
   ]
  },
  {
   "cell_type": "markdown",
   "metadata": {},
   "source": [
    "## Final marker visualisation\n",
    "\n",
    "Gene expression, percentage of cells expressing, and cell frequency make list of genes that could be put into a paper"
   ]
  },
  {
   "cell_type": "code",
   "execution_count": null,
   "metadata": {},
   "outputs": [],
   "source": [
    "genes = ['TNFRSF13B','CXCR5','SELL','CD27','CCR7','IGHD','FCER2','TCL1A', 'TNF','FCRL4']"
   ]
  },
  {
   "cell_type": "code",
   "execution_count": null,
   "metadata": {},
   "outputs": [],
   "source": [
    "a = sc.pl.dotplot(adata2, genes, groupby = 'final', return_fig=True)"
   ]
  },
  {
   "cell_type": "code",
   "execution_count": null,
   "metadata": {},
   "outputs": [],
   "source": [
    "a.add_totals(color='#0072B2', sort=True).style(dot_edge_color='black', dot_edge_lw=0.25).show()"
   ]
  },
  {
   "cell_type": "code",
   "execution_count": null,
   "metadata": {},
   "outputs": [],
   "source": [
    "adata2.write('bcell_annotated.h5ad')"
   ]
  },
  {
   "cell_type": "markdown",
   "metadata": {},
   "source": [
    "once combined - write out all annotations plus the umap co-ordinates"
   ]
  },
  {
   "cell_type": "code",
   "execution_count": null,
   "metadata": {},
   "outputs": [],
   "source": [
    "df_distribution = pd.DataFrame(data={'barcode': list(adata2.obs.index), 'cell_type': list(adata2.obs['final'])})\n",
    "df_distribution.set_index('barcode',inplace=True)"
   ]
  },
  {
   "cell_type": "code",
   "execution_count": null,
   "metadata": {},
   "outputs": [],
   "source": [
    "#umap"
   ]
  },
  {
   "cell_type": "code",
   "execution_count": null,
   "metadata": {},
   "outputs": [],
   "source": [
    "a = pd.DataFrame(adata.obs.index, columns = [\"barcode\"])"
   ]
  },
  {
   "cell_type": "code",
   "execution_count": null,
   "metadata": {},
   "outputs": [],
   "source": [
    "b = pd.DataFrame(adata.obsm['X_umap'], columns = ['X1','X2'])"
   ]
  },
  {
   "cell_type": "code",
   "execution_count": null,
   "metadata": {},
   "outputs": [],
   "source": [
    "res = a.join(b)\n",
    "res = res.set_index('barcode')"
   ]
  },
  {
   "cell_type": "code",
   "execution_count": null,
   "metadata": {},
   "outputs": [],
   "source": [
    "# export annotations and UMAP\n",
    "export = df_distribution.obs.merge(res, left_index=True, right_index=True)"
   ]
  },
  {
   "cell_type": "code",
   "execution_count": null,
   "metadata": {},
   "outputs": [],
   "source": [
    "export.to_csv('export.tsv', sep='\\t')"
   ]
  }
 ],
 "metadata": {
  "kernelspec": {
   "display_name": "Python 3",
   "language": "python",
   "name": "python3"
  },
  "language_info": {
   "codemirror_mode": {
    "name": "ipython",
    "version": 3
   },
   "file_extension": ".py",
   "mimetype": "text/x-python",
   "name": "python",
   "nbconvert_exporter": "python",
   "pygments_lexer": "ipython3",
   "version": "3.8.5"
  }
 },
 "nbformat": 4,
 "nbformat_minor": 4
}
